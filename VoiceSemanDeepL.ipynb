{
 "cells": [
  {
   "cell_type": "code",
   "execution_count": 1,
   "metadata": {},
   "outputs": [],
   "source": [
    "import numpy as np\n",
    "import torch\n",
    "import torch.nn as nn\n",
    "import torch.optim as optim\n",
    "from sklearn.model_selection import train_test_split\n",
    "from sklearn.metrics import mean_squared_error, mean_absolute_error\n",
    "import matplotlib as plt\n",
    "import matplotlib.pyplot as plt\n",
    "import gzip\n",
    "import pickle\n",
    "import zipfile\n",
    "import pandas as pd\n",
    "import os\n",
    "from tqdm import tqdm  #pip install tqdm :)\n",
    "import numpy as np\n",
    "from scipy.interpolate import griddata"
   ]
  },
  {
   "cell_type": "code",
   "execution_count": 2,
   "metadata": {},
   "outputs": [],
   "source": [
    "optimizer_dict = {\n",
    "    \"SGD\": optim.SGD,\n",
    "    \"Adagrad\": optim.Adagrad,\n",
    "    \"Adam\": optim.Adam\n",
    "}"
   ]
  },
  {
   "cell_type": "code",
   "execution_count": 3,
   "metadata": {},
   "outputs": [
    {
     "name": "stdout",
     "output_type": "stream",
     "text": [
      "tensor([[0.0183, 0.4314, 0.5433],\n",
      "        [0.6017, 0.4753, 0.6941],\n",
      "        [0.9765, 0.5078, 0.6185],\n",
      "        [0.8081, 0.3791, 0.9430],\n",
      "        [0.1166, 0.6464, 0.2400]])\n"
     ]
    },
    {
     "data": {
      "text/plain": [
       "True"
      ]
     },
     "execution_count": 3,
     "metadata": {},
     "output_type": "execute_result"
    }
   ],
   "source": [
    "x = torch.rand(5, 3)\n",
    "print(x)\n",
    "\n",
    "torch.cuda.is_available()"
   ]
  },
  {
   "cell_type": "code",
   "execution_count": 4,
   "metadata": {},
   "outputs": [],
   "source": [
    "df = pd.DataFrame(columns=[\"y\", \"X\"])"
   ]
  },
  {
   "cell_type": "code",
   "execution_count": 5,
   "metadata": {},
   "outputs": [],
   "source": [
    "def load_data(zip_file_path):  \n",
    "    global df\n",
    "    data_list = []\n",
    "    with zipfile.ZipFile(zip_file_path, 'r') as zip_ref:\n",
    "        for file in zip_ref.namelist():\n",
    "            if file.endswith('.pkl'):\n",
    "                with zip_ref.open(file) as pkl_file:\n",
    "                    data = pickle.load(pkl_file)\n",
    "                    \n",
    "                    audio_features = data['audio_data']\n",
    "                    \n",
    "                    if audio_features.shape[0] > 0: \n",
    "                        valence = data.get(\"valence\")\n",
    "                        data_list.append({\"y\": valence, \"X\": audio_features})\n",
    "    \n",
    "    # Use pd.concat to create the DataFrame\n",
    "    df = pd.concat([df, pd.DataFrame(data_list)], ignore_index=True)"
   ]
  },
  {
   "cell_type": "code",
   "execution_count": 6,
   "metadata": {},
   "outputs": [],
   "source": [
    "def preprocess_data(X):\n",
    "    max_length = max(x.shape[0] for x in X)\n",
    "    X_padded = np.array([np.pad(x, (0, max_length - x.shape[0]), mode='constant') for x in X], dtype='float32')\n",
    "\n",
    "    # Normalize the padded data\n",
    "    X_normalized = (X_padded - np.mean(X_padded)) / np.std(X_padded)\n",
    "    \n",
    "    return X_normalized"
   ]
  },
  {
   "cell_type": "code",
   "execution_count": 7,
   "metadata": {},
   "outputs": [
    {
     "name": "stderr",
     "output_type": "stream",
     "text": [
      "C:\\Users\\Amitanshu Ghosh\\AppData\\Local\\Temp\\ipykernel_9468\\3939526362.py:17: FutureWarning: The behavior of DataFrame concatenation with empty or all-NA entries is deprecated. In a future version, this will no longer exclude empty or all-NA columns when determining the result dtypes. To retain the old behavior, exclude the relevant entries before the concat operation.\n",
      "  df = pd.concat([df, pd.DataFrame(data_list)], ignore_index=True)\n"
     ]
    },
    {
     "data": {
      "text/html": [
       "<div>\n",
       "<style scoped>\n",
       "    .dataframe tbody tr th:only-of-type {\n",
       "        vertical-align: middle;\n",
       "    }\n",
       "\n",
       "    .dataframe tbody tr th {\n",
       "        vertical-align: top;\n",
       "    }\n",
       "\n",
       "    .dataframe thead th {\n",
       "        text-align: right;\n",
       "    }\n",
       "</style>\n",
       "<table border=\"1\" class=\"dataframe\">\n",
       "  <thead>\n",
       "    <tr style=\"text-align: right;\">\n",
       "      <th></th>\n",
       "      <th>y</th>\n",
       "      <th>X</th>\n",
       "    </tr>\n",
       "  </thead>\n",
       "  <tbody>\n",
       "    <tr>\n",
       "      <th>0</th>\n",
       "      <td>1.25</td>\n",
       "      <td>[-1.0349686e-05, -8.201167e-06, 1.5248549e-05,...</td>\n",
       "    </tr>\n",
       "    <tr>\n",
       "      <th>1</th>\n",
       "      <td>3.50</td>\n",
       "      <td>[0.0004993363, 0.001089146, 0.0012895092, 0.00...</td>\n",
       "    </tr>\n",
       "    <tr>\n",
       "      <th>2</th>\n",
       "      <td>3.25</td>\n",
       "      <td>[-4.832544e-06, -8.244775e-06, -3.7053242e-06,...</td>\n",
       "    </tr>\n",
       "    <tr>\n",
       "      <th>3</th>\n",
       "      <td>3.75</td>\n",
       "      <td>[-0.00050674484, -0.0009754167, -0.0010292103,...</td>\n",
       "    </tr>\n",
       "    <tr>\n",
       "      <th>4</th>\n",
       "      <td>3.50</td>\n",
       "      <td>[2.7288927e-05, 2.9628214e-05, 8.091243e-05, 0...</td>\n",
       "    </tr>\n",
       "  </tbody>\n",
       "</table>\n",
       "</div>"
      ],
      "text/plain": [
       "      y                                                  X\n",
       "0  1.25  [-1.0349686e-05, -8.201167e-06, 1.5248549e-05,...\n",
       "1  3.50  [0.0004993363, 0.001089146, 0.0012895092, 0.00...\n",
       "2  3.25  [-4.832544e-06, -8.244775e-06, -3.7053242e-06,...\n",
       "3  3.75  [-0.00050674484, -0.0009754167, -0.0010292103,...\n",
       "4  3.50  [2.7288927e-05, 2.9628214e-05, 8.091243e-05, 0..."
      ]
     },
     "execution_count": 7,
     "metadata": {},
     "output_type": "execute_result"
    }
   ],
   "source": [
    "zip_file = r\"C:\\\\Users\\\\Amitanshu Ghosh\\\\Desktop\\\\train.zip\"\n",
    "#zip_file = r\"C:\\Users\\Danie\\Downloads\\train.zip\"\n",
    "load_data(zip_file)\n",
    "df.head()"
   ]
  },
  {
   "cell_type": "code",
   "execution_count": 8,
   "metadata": {},
   "outputs": [],
   "source": [
    "X = np.array(df[\"X\"].values, dtype=object)\n",
    "X = preprocess_data(X)\n",
    "y = df[\"y\"].values.astype(np.float32)"
   ]
  },
  {
   "cell_type": "code",
   "execution_count": 9,
   "metadata": {},
   "outputs": [],
   "source": [
    "X_train, X_test, y_train, y_test = train_test_split(X, y, test_size=0.2, random_state=42)"
   ]
  },
  {
   "cell_type": "code",
   "execution_count": 10,
   "metadata": {},
   "outputs": [],
   "source": [
    "X_train = torch.tensor(X_train, dtype=torch.float32).unsqueeze(-1)  # Add channel dimension\n",
    "X_test = torch.tensor(X_test, dtype=torch.float32).unsqueeze(-1)\n",
    "y_train = torch.tensor(y_train, dtype=torch.float32).unsqueeze(-1)\n",
    "y_test = torch.tensor(y_test, dtype=torch.float32).unsqueeze(-1)\n"
   ]
  },
  {
   "cell_type": "code",
   "execution_count": 11,
   "metadata": {},
   "outputs": [],
   "source": [
    "class AudioModel(nn.Module):\n",
    "    def __init__(self, input_size, hidden_size):\n",
    "        torch.manual_seed(42)\n",
    "        \n",
    "        super(AudioModel, self).__init__()\n",
    "        self.conv1 = nn.Conv1d(in_channels=1, out_channels=8, kernel_size=3)\n",
    "        self.batch_norm1 = nn.BatchNorm1d(8)\n",
    "        self.pool1 = nn.MaxPool1d(kernel_size=2)\n",
    "        self.conv2 = nn.Conv1d(in_channels=8, out_channels=16, kernel_size=3)\n",
    "        self.batch_norm2 = nn.BatchNorm1d(16)\n",
    "        self.pool2 = nn.MaxPool1d(kernel_size=2)\n",
    "        self.lstm = nn.LSTM(input_size=input_size, hidden_size=hidden_size, batch_first=True)\n",
    "        \n",
    "        self.dropout = nn.Dropout(0.2)\n",
    "        self.fc = nn.Linear(hidden_size, 1)\n",
    "\n",
    "    def _get_conv_output_size(self, input_size):\n",
    "        x = torch.zeros(1, 1, input_size)  # Dummy input to get the output size\n",
    "        x = self.pool1(self.batch_norm1(torch.relu(self.conv1(x))))\n",
    "        x = self.pool2(self.batch_norm2(torch.relu(self.conv2(x))))\n",
    "        return x.shape[2]\n",
    "\n",
    "\n",
    "    def forward(self, x):\n",
    "        x = x.transpose(1, 2)  # Switch batch and channel dimensions for Conv1D\n",
    "        x = self.pool1(self.batch_norm1(torch.relu(self.conv1(x))))\n",
    "        x = self.pool2(self.batch_norm2(torch.relu(self.conv2(x))))\n",
    "        x = x.transpose(1, 2)  # Switch back to batch-first format for LSTM\n",
    "        x, _ = self.lstm(x)\n",
    "        x = self.dropout(x[:, -1, :])  # Use the output of the last time step\n",
    "        x = self.fc(x)\n",
    "        return x"
   ]
  },
  {
   "cell_type": "code",
   "execution_count": null,
   "metadata": {},
   "outputs": [],
   "source": []
  },
  {
   "cell_type": "code",
   "execution_count": null,
   "metadata": {},
   "outputs": [],
   "source": []
  },
  {
   "cell_type": "code",
   "execution_count": 12,
   "metadata": {},
   "outputs": [
    {
     "data": {
      "text/plain": [
       "AudioModel(\n",
       "  (conv1): Conv1d(1, 8, kernel_size=(3,), stride=(1,))\n",
       "  (batch_norm1): BatchNorm1d(8, eps=1e-05, momentum=0.1, affine=True, track_running_stats=True)\n",
       "  (pool1): MaxPool1d(kernel_size=2, stride=2, padding=0, dilation=1, ceil_mode=False)\n",
       "  (conv2): Conv1d(8, 16, kernel_size=(3,), stride=(1,))\n",
       "  (batch_norm2): BatchNorm1d(16, eps=1e-05, momentum=0.1, affine=True, track_running_stats=True)\n",
       "  (pool2): MaxPool1d(kernel_size=2, stride=2, padding=0, dilation=1, ceil_mode=False)\n",
       "  (lstm): LSTM(16, 16, batch_first=True)\n",
       "  (dropout): Dropout(p=0.2, inplace=False)\n",
       "  (fc): Linear(in_features=16, out_features=1, bias=True)\n",
       ")"
      ]
     },
     "execution_count": 12,
     "metadata": {},
     "output_type": "execute_result"
    }
   ],
   "source": [
    "epochs = 5\n",
    "batch_size = 8\n",
    "\n",
    "learning_rate = 0.001\n",
    "input_size = 16\n",
    "hidden_size = 16\n",
    "input_shape = X_train.shape[1:]\n",
    "\n",
    "criterion = nn.MSELoss()\n",
    "model = AudioModel(input_size, hidden_size)\n",
    "\n",
    "device = torch.device(\"cuda\" if torch.cuda.is_available() else \"cpu\")\n",
    "model.to(device)\n",
    "#optimizer = optim.Adam(model.parameters(), lr=0.001)"
   ]
  },
  {
   "cell_type": "code",
   "execution_count": 13,
   "metadata": {},
   "outputs": [],
   "source": [
    "X_train, X_test, y_train, y_test = X_train.to(device), X_test.to(device), y_train.to(device), y_test.to(device)"
   ]
  },
  {
   "cell_type": "code",
   "execution_count": null,
   "metadata": {},
   "outputs": [],
   "source": []
  },
  {
   "cell_type": "code",
   "execution_count": 14,
   "metadata": {},
   "outputs": [],
   "source": [
    "def save_model(model, optimizer, epoch, loss, file_path):\n",
    "    state = {\n",
    "        'epoch': epoch,\n",
    "        'model_state_dict': model.state_dict(),\n",
    "        'optimizer_state_dict': optimizer.state_dict(),\n",
    "        'loss': loss\n",
    "    }\n",
    "    torch.save(state, file_path)\n",
    "    print(f\"Model saved to {file_path}\")\n",
    "\n",
    "def evaluate_model(model, criterion):\n",
    "    batch_size = 8\n",
    "    eval_batch_size = 4  \n",
    "    num_test_samples = X_test.size(0)\n",
    "    num_batches = (num_test_samples + eval_batch_size - 1) // eval_batch_size\n",
    "\n",
    "    model.eval()\n",
    "    mse_loss = 0.0\n",
    "    mae_loss = 0.0\n",
    "\n",
    "    with torch.no_grad():\n",
    "        for i in range(num_batches):\n",
    "            start_idx = i * eval_batch_size\n",
    "            end_idx = min((i + 1) * eval_batch_size, num_test_samples)\n",
    "            batch_x = X_test[start_idx:end_idx]\n",
    "            batch_y = y_test[start_idx:end_idx]\n",
    "\n",
    "            batch_pred = model(batch_x).cpu().numpy()\n",
    "\n",
    "            # Compute MSE and MAE \n",
    "            batch_mse = mean_squared_error(batch_y.cpu().numpy(), batch_pred)\n",
    "            batch_mae = mean_absolute_error(batch_y.cpu().numpy(), batch_pred)\n",
    "\n",
    "            # Accumulate losses\n",
    "            mse_loss += batch_mse * (end_idx - start_idx)\n",
    "            mae_loss += batch_mae * (end_idx - start_idx)\n",
    "\n",
    "    # Compute average losses\n",
    "    mse_loss /= num_test_samples\n",
    "    mae_loss /= num_test_samples\n",
    "\n",
    "    return mse_loss, mae_loss\n",
    "\n",
    "def train_model(model, num_epochs, criterion, optimizer, save_path, optimizer_name):\n",
    "    loss_per_epoch = []\n",
    "    mse_per_epoch = []\n",
    "    \n",
    "    for epoch in range(epochs):\n",
    "        model.train()\n",
    "        permutation = torch.randperm(X_train.size()[0])\n",
    "        epoch_loss = 0\n",
    "        num_batches = X_train.size()[0] // batch_size\n",
    "\n",
    "        with tqdm(total=num_batches, desc=f\"Epoch {epoch+1}/{epochs}\", unit=\"batch\") as pbar:\n",
    "            for i in range(0, X_train.size()[0], batch_size):\n",
    "                indices = permutation[i:i + batch_size]\n",
    "                batch_x, batch_y = X_train[indices], y_train[indices]\n",
    " \n",
    "                optimizer.zero_grad()\n",
    "                outputs = model(batch_x)\n",
    "                loss = criterion(outputs, batch_y)\n",
    "                loss.backward()\n",
    "                optimizer.step()\n",
    "\n",
    "                epoch_loss += loss.item()\n",
    "                pbar.set_postfix(loss=loss.item())\n",
    "                pbar.update(1)\n",
    "        \n",
    "        mse_loss, mae_loss = evaluate_model(model, criterion)\n",
    "        mse_per_epoch.append(mse_loss)\n",
    "        loss_per_epoch.append(epoch_loss / num_batches)\n",
    "\n",
    "\n",
    "        # Saving model per epoch\n",
    "        file_name = f\"model_{optimizer_name}_epoch_{epoch+1}.pth\"\n",
    "        file_path = os.path.join(save_path, optimizer_name, file_name)\n",
    "        save_model(model, optimizer, epoch+1, epoch_loss / num_batches, file_path)\n",
    "        \n",
    "    return loss_per_epoch, mse_per_epoch\n",
    "\n",
    "def plot_search(results):\n",
    "\n",
    "    \n",
    "    # Extract relevant information for the heatmap\n",
    "    lr_values = [result['lr'] for result in results]\n",
    "    hidden_size_values = [result['hidden_size'] for result in results]\n",
    "    val_loss_values = [result['loss'] for result in results]\n",
    "\n",
    "    # Create a heatmap\n",
    "    plt.figure(figsize=(10, 8))\n",
    "    heatmap = plt.scatter(lr_values, hidden_size_values, c=val_loss_values, cmap='RdYlGn', marker='o', s=100)\n",
    "    plt.colorbar(heatmap, label='Validation Loss')\n",
    "    plt.xscale('log')  \n",
    "\n",
    "    \n",
    "    plt.xlabel('Learning Rate')\n",
    "    plt.ylabel('Hidden Size')\n",
    "    plt.title('Hyperparameter Search')\n",
    "    plt.grid(True)\n",
    "\n",
    "    # Show the plot\n",
    "    plt.show()\n",
    "\n"
   ]
  },
  {
   "cell_type": "code",
   "execution_count": 15,
   "metadata": {},
   "outputs": [],
   "source": [
    "optimizer_names = [\"SGD\", \"Adagrad\", \"Adam\"]\n",
    "\n"
   ]
  },
  {
   "cell_type": "code",
   "execution_count": 16,
   "metadata": {},
   "outputs": [],
   "source": [
    "save_path = \"C:\\\\Users\\\\Amitanshu Ghosh\\\\Desktop\\\\test_models\"\n",
    "os.makedirs(save_path, exist_ok=True)"
   ]
  },
  {
   "cell_type": "code",
   "execution_count": 17,
   "metadata": {},
   "outputs": [
    {
     "name": "stderr",
     "output_type": "stream",
     "text": [
      "Epoch 1/5:   0%|          | 0/1055 [00:01<?, ?batch/s]\n"
     ]
    },
    {
     "ename": "KeyboardInterrupt",
     "evalue": "",
     "output_type": "error",
     "traceback": [
      "\u001b[1;31m---------------------------------------------------------------------------\u001b[0m",
      "\u001b[1;31mKeyboardInterrupt\u001b[0m                         Traceback (most recent call last)",
      "Cell \u001b[1;32mIn[17], line 13\u001b[0m\n\u001b[0;32m     10\u001b[0m optimizer_class \u001b[38;5;241m=\u001b[39m optimizer_dict[optimizer_name]\n\u001b[0;32m     11\u001b[0m optimizer \u001b[38;5;241m=\u001b[39m optimizer_class(params\u001b[38;5;241m=\u001b[39mmodel\u001b[38;5;241m.\u001b[39mparameters(), lr\u001b[38;5;241m=\u001b[39mlearning_rate)\n\u001b[1;32m---> 13\u001b[0m loss_evolution, mse_evolution \u001b[38;5;241m=\u001b[39m \u001b[43mtrain_model\u001b[49m\u001b[43m(\u001b[49m\u001b[43mmodel\u001b[49m\u001b[43m,\u001b[49m\u001b[43m \u001b[49m\u001b[43mepochs\u001b[49m\u001b[43m,\u001b[49m\u001b[43m \u001b[49m\u001b[43mcriterion\u001b[49m\u001b[43m,\u001b[49m\u001b[43m \u001b[49m\u001b[43moptimizer\u001b[49m\u001b[43m,\u001b[49m\u001b[43m \u001b[49m\u001b[43msave_path\u001b[49m\u001b[43m,\u001b[49m\u001b[43m \u001b[49m\u001b[43moptimizer_name\u001b[49m\u001b[43m)\u001b[49m\n\u001b[0;32m     14\u001b[0m all_loss_evolution\u001b[38;5;241m.\u001b[39mappend(loss_evolution)\n\u001b[0;32m     15\u001b[0m all_mse_evolution\u001b[38;5;241m.\u001b[39mappend(mse_evolution)\n",
      "Cell \u001b[1;32mIn[14], line 62\u001b[0m, in \u001b[0;36mtrain_model\u001b[1;34m(model, num_epochs, criterion, optimizer, save_path, optimizer_name)\u001b[0m\n\u001b[0;32m     60\u001b[0m outputs \u001b[38;5;241m=\u001b[39m model(batch_x)\n\u001b[0;32m     61\u001b[0m loss \u001b[38;5;241m=\u001b[39m criterion(outputs, batch_y)\n\u001b[1;32m---> 62\u001b[0m \u001b[43mloss\u001b[49m\u001b[38;5;241;43m.\u001b[39;49m\u001b[43mbackward\u001b[49m\u001b[43m(\u001b[49m\u001b[43m)\u001b[49m\n\u001b[0;32m     63\u001b[0m optimizer\u001b[38;5;241m.\u001b[39mstep()\n\u001b[0;32m     65\u001b[0m epoch_loss \u001b[38;5;241m+\u001b[39m\u001b[38;5;241m=\u001b[39m loss\u001b[38;5;241m.\u001b[39mitem()\n",
      "File \u001b[1;32mc:\\Users\\Amitanshu Ghosh\\AppData\\Local\\Programs\\Python\\Python310\\lib\\site-packages\\torch\\_tensor.py:525\u001b[0m, in \u001b[0;36mTensor.backward\u001b[1;34m(self, gradient, retain_graph, create_graph, inputs)\u001b[0m\n\u001b[0;32m    515\u001b[0m \u001b[38;5;28;01mif\u001b[39;00m has_torch_function_unary(\u001b[38;5;28mself\u001b[39m):\n\u001b[0;32m    516\u001b[0m     \u001b[38;5;28;01mreturn\u001b[39;00m handle_torch_function(\n\u001b[0;32m    517\u001b[0m         Tensor\u001b[38;5;241m.\u001b[39mbackward,\n\u001b[0;32m    518\u001b[0m         (\u001b[38;5;28mself\u001b[39m,),\n\u001b[1;32m   (...)\u001b[0m\n\u001b[0;32m    523\u001b[0m         inputs\u001b[38;5;241m=\u001b[39minputs,\n\u001b[0;32m    524\u001b[0m     )\n\u001b[1;32m--> 525\u001b[0m \u001b[43mtorch\u001b[49m\u001b[38;5;241;43m.\u001b[39;49m\u001b[43mautograd\u001b[49m\u001b[38;5;241;43m.\u001b[39;49m\u001b[43mbackward\u001b[49m\u001b[43m(\u001b[49m\n\u001b[0;32m    526\u001b[0m \u001b[43m    \u001b[49m\u001b[38;5;28;43mself\u001b[39;49m\u001b[43m,\u001b[49m\u001b[43m \u001b[49m\u001b[43mgradient\u001b[49m\u001b[43m,\u001b[49m\u001b[43m \u001b[49m\u001b[43mretain_graph\u001b[49m\u001b[43m,\u001b[49m\u001b[43m \u001b[49m\u001b[43mcreate_graph\u001b[49m\u001b[43m,\u001b[49m\u001b[43m \u001b[49m\u001b[43minputs\u001b[49m\u001b[38;5;241;43m=\u001b[39;49m\u001b[43minputs\u001b[49m\n\u001b[0;32m    527\u001b[0m \u001b[43m\u001b[49m\u001b[43m)\u001b[49m\n",
      "File \u001b[1;32mc:\\Users\\Amitanshu Ghosh\\AppData\\Local\\Programs\\Python\\Python310\\lib\\site-packages\\torch\\autograd\\__init__.py:267\u001b[0m, in \u001b[0;36mbackward\u001b[1;34m(tensors, grad_tensors, retain_graph, create_graph, grad_variables, inputs)\u001b[0m\n\u001b[0;32m    262\u001b[0m     retain_graph \u001b[38;5;241m=\u001b[39m create_graph\n\u001b[0;32m    264\u001b[0m \u001b[38;5;66;03m# The reason we repeat the same comment below is that\u001b[39;00m\n\u001b[0;32m    265\u001b[0m \u001b[38;5;66;03m# some Python versions print out the first line of a multi-line function\u001b[39;00m\n\u001b[0;32m    266\u001b[0m \u001b[38;5;66;03m# calls in the traceback and some print out the last line\u001b[39;00m\n\u001b[1;32m--> 267\u001b[0m \u001b[43m_engine_run_backward\u001b[49m\u001b[43m(\u001b[49m\n\u001b[0;32m    268\u001b[0m \u001b[43m    \u001b[49m\u001b[43mtensors\u001b[49m\u001b[43m,\u001b[49m\n\u001b[0;32m    269\u001b[0m \u001b[43m    \u001b[49m\u001b[43mgrad_tensors_\u001b[49m\u001b[43m,\u001b[49m\n\u001b[0;32m    270\u001b[0m \u001b[43m    \u001b[49m\u001b[43mretain_graph\u001b[49m\u001b[43m,\u001b[49m\n\u001b[0;32m    271\u001b[0m \u001b[43m    \u001b[49m\u001b[43mcreate_graph\u001b[49m\u001b[43m,\u001b[49m\n\u001b[0;32m    272\u001b[0m \u001b[43m    \u001b[49m\u001b[43minputs\u001b[49m\u001b[43m,\u001b[49m\n\u001b[0;32m    273\u001b[0m \u001b[43m    \u001b[49m\u001b[43mallow_unreachable\u001b[49m\u001b[38;5;241;43m=\u001b[39;49m\u001b[38;5;28;43;01mTrue\u001b[39;49;00m\u001b[43m,\u001b[49m\n\u001b[0;32m    274\u001b[0m \u001b[43m    \u001b[49m\u001b[43maccumulate_grad\u001b[49m\u001b[38;5;241;43m=\u001b[39;49m\u001b[38;5;28;43;01mTrue\u001b[39;49;00m\u001b[43m,\u001b[49m\n\u001b[0;32m    275\u001b[0m \u001b[43m\u001b[49m\u001b[43m)\u001b[49m\n",
      "File \u001b[1;32mc:\\Users\\Amitanshu Ghosh\\AppData\\Local\\Programs\\Python\\Python310\\lib\\site-packages\\torch\\autograd\\graph.py:744\u001b[0m, in \u001b[0;36m_engine_run_backward\u001b[1;34m(t_outputs, *args, **kwargs)\u001b[0m\n\u001b[0;32m    742\u001b[0m     unregister_hooks \u001b[38;5;241m=\u001b[39m _register_logging_hooks_on_whole_graph(t_outputs)\n\u001b[0;32m    743\u001b[0m \u001b[38;5;28;01mtry\u001b[39;00m:\n\u001b[1;32m--> 744\u001b[0m     \u001b[38;5;28;01mreturn\u001b[39;00m Variable\u001b[38;5;241m.\u001b[39m_execution_engine\u001b[38;5;241m.\u001b[39mrun_backward(  \u001b[38;5;66;03m# Calls into the C++ engine to run the backward pass\u001b[39;00m\n\u001b[0;32m    745\u001b[0m         t_outputs, \u001b[38;5;241m*\u001b[39margs, \u001b[38;5;241m*\u001b[39m\u001b[38;5;241m*\u001b[39mkwargs\n\u001b[0;32m    746\u001b[0m     )  \u001b[38;5;66;03m# Calls into the C++ engine to run the backward pass\u001b[39;00m\n\u001b[0;32m    747\u001b[0m \u001b[38;5;28;01mfinally\u001b[39;00m:\n\u001b[0;32m    748\u001b[0m     \u001b[38;5;28;01mif\u001b[39;00m attach_logging_hooks:\n",
      "\u001b[1;31mKeyboardInterrupt\u001b[0m: "
     ]
    }
   ],
   "source": [
    "names = []\n",
    "all_loss_evolution = []\n",
    "all_mse_evolution = []\n",
    "\n",
    "for optimizer_name in optimizer_names:\n",
    "    # Directory for the optimizer\n",
    "    optimizer_path = os.path.join(save_path, optimizer_name)\n",
    "    os.makedirs(optimizer_path, exist_ok=True)\n",
    "    \n",
    "    optimizer_class = optimizer_dict[optimizer_name]\n",
    "    optimizer = optimizer_class(params=model.parameters(), lr=learning_rate)\n",
    "\n",
    "    loss_evolution, mse_evolution = train_model(model, epochs, criterion, optimizer, save_path, optimizer_name)\n",
    "    all_loss_evolution.append(loss_evolution)\n",
    "    all_mse_evolution.append(mse_evolution)\n",
    "    \n",
    "    plt.plot(mse_evolution, label=f\"{optimizer_name}\")\n",
    "\n",
    "plt.legend()\n",
    "plt.xlabel(\"Epoch\")\n",
    "plt.ylabel(\"Average loss\")\n",
    "plt.show()"
   ]
  },
  {
   "cell_type": "code",
   "execution_count": null,
   "metadata": {},
   "outputs": [],
   "source": []
  },
  {
   "cell_type": "code",
   "execution_count": 18,
   "metadata": {},
   "outputs": [],
   "source": [
    "def train_eval(hidden_size, learning_rate, criterion, num_epochs):\n",
    "    # Create the model\n",
    "    model = AudioModel(input_size, hidden_size)\n",
    "    model = model.to(device)\n",
    "    optimizer = optim.Adam(params=model.parameters(), lr=learning_rate)\n",
    "    \n",
    "    # Temporary save path for models during evaluation\n",
    "    temp_save_path = \"C:\\\\Users\\\\Amitanshu Ghosh\\\\Desktop\\\\test_model_post_train\"\n",
    "    \n",
    "   # Does directory exist\n",
    "    if not os.path.exists(temp_save_path):\n",
    "        os.makedirs(temp_save_path)\n",
    "    \n",
    "    # Train the model\n",
    "    loss_evolution, mse_evolution = train_model(model, num_epochs=num_epochs, criterion=criterion, optimizer=optimizer, save_path=temp_save_path, optimizer_name=\"Adam\")\n",
    "    return loss_evolution[-1], mse_evolution[-1]"
   ]
  },
  {
   "cell_type": "code",
   "execution_count": 18,
   "metadata": {},
   "outputs": [
    {
     "name": "stderr",
     "output_type": "stream",
     "text": [
      "Epoch 1/5: 1056batch [12:10,  1.45batch/s, loss=0.692]                        \n"
     ]
    },
    {
     "name": "stdout",
     "output_type": "stream",
     "text": [
      "Model saved to C:\\Users\\Amitanshu Ghosh\\Desktop\\test_model_post_train\\Adam\\model_Adam_epoch_1.pth\n"
     ]
    },
    {
     "name": "stderr",
     "output_type": "stream",
     "text": [
      "Epoch 2/5: 1056batch [13:04,  1.35batch/s, loss=1.91]                         \n"
     ]
    },
    {
     "name": "stdout",
     "output_type": "stream",
     "text": [
      "Model saved to C:\\Users\\Amitanshu Ghosh\\Desktop\\test_model_post_train\\Adam\\model_Adam_epoch_2.pth\n"
     ]
    },
    {
     "name": "stderr",
     "output_type": "stream",
     "text": [
      "Epoch 3/5: 1056batch [13:39,  1.29batch/s, loss=0.906]                       \n"
     ]
    },
    {
     "name": "stdout",
     "output_type": "stream",
     "text": [
      "Model saved to C:\\Users\\Amitanshu Ghosh\\Desktop\\test_model_post_train\\Adam\\model_Adam_epoch_3.pth\n"
     ]
    },
    {
     "name": "stderr",
     "output_type": "stream",
     "text": [
      "Epoch 4/5: 1056batch [13:33,  1.30batch/s, loss=0.262]                       \n"
     ]
    },
    {
     "name": "stdout",
     "output_type": "stream",
     "text": [
      "Model saved to C:\\Users\\Amitanshu Ghosh\\Desktop\\test_model_post_train\\Adam\\model_Adam_epoch_4.pth\n"
     ]
    },
    {
     "name": "stderr",
     "output_type": "stream",
     "text": [
      "Epoch 5/5: 1056batch [14:36,  1.20batch/s, loss=0.718]                       \n"
     ]
    },
    {
     "name": "stdout",
     "output_type": "stream",
     "text": [
      "Model saved to C:\\Users\\Amitanshu Ghosh\\Desktop\\test_model_post_train\\Adam\\model_Adam_epoch_5.pth\n",
      "1. Learning rate: 0.09778 and hidden size: 16\n",
      "\tValidation mse: 0.68194\n",
      "\tValidation loss: 0.71194\n",
      "\n"
     ]
    },
    {
     "name": "stderr",
     "output_type": "stream",
     "text": [
      "Epoch 1/5: 1056batch [16:00,  1.10batch/s, loss=1.53]                        \n"
     ]
    },
    {
     "name": "stdout",
     "output_type": "stream",
     "text": [
      "Model saved to C:\\Users\\Amitanshu Ghosh\\Desktop\\test_model_post_train\\Adam\\model_Adam_epoch_1.pth\n"
     ]
    },
    {
     "name": "stderr",
     "output_type": "stream",
     "text": [
      "Epoch 2/5: 1056batch [08:02,  2.19batch/s, loss=0.764]                       \n"
     ]
    },
    {
     "name": "stdout",
     "output_type": "stream",
     "text": [
      "Model saved to C:\\Users\\Amitanshu Ghosh\\Desktop\\test_model_post_train\\Adam\\model_Adam_epoch_2.pth\n"
     ]
    },
    {
     "name": "stderr",
     "output_type": "stream",
     "text": [
      "Epoch 3/5: 1056batch [09:09,  1.92batch/s, loss=1.15]                        \n"
     ]
    },
    {
     "name": "stdout",
     "output_type": "stream",
     "text": [
      "Model saved to C:\\Users\\Amitanshu Ghosh\\Desktop\\test_model_post_train\\Adam\\model_Adam_epoch_3.pth\n"
     ]
    },
    {
     "name": "stderr",
     "output_type": "stream",
     "text": [
      "Epoch 4/5: 1056batch [09:58,  1.76batch/s, loss=1.1]                         \n"
     ]
    },
    {
     "name": "stdout",
     "output_type": "stream",
     "text": [
      "Model saved to C:\\Users\\Amitanshu Ghosh\\Desktop\\test_model_post_train\\Adam\\model_Adam_epoch_4.pth\n"
     ]
    },
    {
     "name": "stderr",
     "output_type": "stream",
     "text": [
      "Epoch 5/5: 1056batch [07:14,  2.43batch/s, loss=0.247]                       \n"
     ]
    },
    {
     "name": "stdout",
     "output_type": "stream",
     "text": [
      "Model saved to C:\\Users\\Amitanshu Ghosh\\Desktop\\test_model_post_train\\Adam\\model_Adam_epoch_5.pth\n",
      "2. Learning rate: 0.01204 and hidden size: 26\n",
      "\tValidation mse: 0.68367\n",
      "\tValidation loss: 0.69408\n",
      "\n"
     ]
    },
    {
     "name": "stderr",
     "output_type": "stream",
     "text": [
      "Epoch 1/5: 1056batch [07:27,  2.36batch/s, loss=1.18]                        \n"
     ]
    },
    {
     "name": "stdout",
     "output_type": "stream",
     "text": [
      "Model saved to C:\\Users\\Amitanshu Ghosh\\Desktop\\test_model_post_train\\Adam\\model_Adam_epoch_1.pth\n"
     ]
    },
    {
     "name": "stderr",
     "output_type": "stream",
     "text": [
      "Epoch 2/5: 1056batch [07:26,  2.37batch/s, loss=0.607]                       \n"
     ]
    },
    {
     "name": "stdout",
     "output_type": "stream",
     "text": [
      "Model saved to C:\\Users\\Amitanshu Ghosh\\Desktop\\test_model_post_train\\Adam\\model_Adam_epoch_2.pth\n"
     ]
    },
    {
     "name": "stderr",
     "output_type": "stream",
     "text": [
      "Epoch 3/5: 1056batch [07:39,  2.30batch/s, loss=0.81]                        \n"
     ]
    },
    {
     "name": "stdout",
     "output_type": "stream",
     "text": [
      "Model saved to C:\\Users\\Amitanshu Ghosh\\Desktop\\test_model_post_train\\Adam\\model_Adam_epoch_3.pth\n"
     ]
    },
    {
     "name": "stderr",
     "output_type": "stream",
     "text": [
      "Epoch 4/5: 1056batch [08:02,  2.19batch/s, loss=0.731]                       \n"
     ]
    },
    {
     "name": "stdout",
     "output_type": "stream",
     "text": [
      "Model saved to C:\\Users\\Amitanshu Ghosh\\Desktop\\test_model_post_train\\Adam\\model_Adam_epoch_4.pth\n"
     ]
    },
    {
     "name": "stderr",
     "output_type": "stream",
     "text": [
      "Epoch 5/5: 1056batch [07:03,  2.49batch/s, loss=0.511]                       \n"
     ]
    },
    {
     "name": "stdout",
     "output_type": "stream",
     "text": [
      "Model saved to C:\\Users\\Amitanshu Ghosh\\Desktop\\test_model_post_train\\Adam\\model_Adam_epoch_5.pth\n",
      "3. Learning rate: 0.005785 and hidden size: 21\n",
      "\tValidation mse: 0.67705\n",
      "\tValidation loss: 0.71796\n",
      "\n",
      "Best parameters found:\n",
      " - Learning rate: 0.012038\n",
      " - Hidden size: 26\n",
      " - Validation mse: 0.68%\n"
     ]
    }
   ],
   "source": [
    "import random\n",
    "# Coarse Random Search\n",
    "coarse_trials = 3\n",
    "num_epochs = 5\n",
    "coarse_results = []\n",
    "\n",
    "for i in range(coarse_trials):\n",
    "    lr = 10.0**random.uniform(-3, -1)  # Random log-uniform sampling within the range 0.001 to 0.1\n",
    "    hidden_size = int(2**random.uniform(4, 6))\n",
    "\n",
    "    val_loss, val_mse = train_eval(hidden_size, lr, criterion, num_epochs)\n",
    "    coarse_results.append({'lr': lr, 'hidden_size': hidden_size, 'loss': val_loss, 'mse': val_mse})\n",
    "    print(f\"{i+1}. Learning rate: {lr:.4} and hidden size: {hidden_size}\")\n",
    "    print(f\"\\tValidation mse: {val_mse:.5}\\n\\tValidation loss: {val_loss:.5}\\n\")\n",
    "\n",
    "# Find the best parameters from coarse search\n",
    "best_coarse_params = min(coarse_results, key=lambda x: x['loss'])\n",
    "print(f\"Best parameters found:\\n - Learning rate: {best_coarse_params['lr']:.5}\\n - Hidden size: {best_coarse_params['hidden_size']}\\n - Validation mse: {best_coarse_params['mse']:.2}%\")"
   ]
  },
  {
   "cell_type": "code",
   "execution_count": 42,
   "metadata": {},
   "outputs": [],
   "source": []
  },
  {
   "cell_type": "code",
   "execution_count": 43,
   "metadata": {},
   "outputs": [],
   "source": []
  },
  {
   "cell_type": "code",
   "execution_count": 19,
   "metadata": {},
   "outputs": [
    {
     "name": "stdout",
     "output_type": "stream",
     "text": [
      "Learning rate: 0.01083 and hidden size: 22\n"
     ]
    },
    {
     "name": "stderr",
     "output_type": "stream",
     "text": [
      "Epoch 1/5:   0%|          | 0/1055 [00:00<?, ?batch/s]"
     ]
    },
    {
     "name": "stderr",
     "output_type": "stream",
     "text": [
      "Epoch 1/5: 1056batch [06:45,  2.60batch/s, loss=0.514]                        \n"
     ]
    },
    {
     "name": "stdout",
     "output_type": "stream",
     "text": [
      "Model saved to C:\\Users\\Amitanshu Ghosh\\Desktop\\test_model_post_train\\Adam\\model_Adam_epoch_1.pth\n"
     ]
    },
    {
     "name": "stderr",
     "output_type": "stream",
     "text": [
      "Epoch 2/5: 1056batch [06:45,  2.60batch/s, loss=0.506]                       \n"
     ]
    },
    {
     "name": "stdout",
     "output_type": "stream",
     "text": [
      "Model saved to C:\\Users\\Amitanshu Ghosh\\Desktop\\test_model_post_train\\Adam\\model_Adam_epoch_2.pth\n"
     ]
    },
    {
     "name": "stderr",
     "output_type": "stream",
     "text": [
      "Epoch 3/5: 1056batch [06:37,  2.65batch/s, loss=1.44]                        \n"
     ]
    },
    {
     "name": "stdout",
     "output_type": "stream",
     "text": [
      "Model saved to C:\\Users\\Amitanshu Ghosh\\Desktop\\test_model_post_train\\Adam\\model_Adam_epoch_3.pth\n"
     ]
    },
    {
     "name": "stderr",
     "output_type": "stream",
     "text": [
      "Epoch 4/5: 1056batch [06:52,  2.56batch/s, loss=1.06]                        \n"
     ]
    },
    {
     "name": "stdout",
     "output_type": "stream",
     "text": [
      "Model saved to C:\\Users\\Amitanshu Ghosh\\Desktop\\test_model_post_train\\Adam\\model_Adam_epoch_4.pth\n"
     ]
    },
    {
     "name": "stderr",
     "output_type": "stream",
     "text": [
      "Epoch 5/5: 1056batch [06:46,  2.60batch/s, loss=0.37]                        \n"
     ]
    },
    {
     "name": "stdout",
     "output_type": "stream",
     "text": [
      "Model saved to C:\\Users\\Amitanshu Ghosh\\Desktop\\test_model_post_train\\Adam\\model_Adam_epoch_5.pth\n",
      "\tValidation mse: 0.67709\n",
      "\tValidation loss: 0.694\n",
      "\n",
      "Learning rate: 0.008957 and hidden size: 27\n"
     ]
    },
    {
     "name": "stderr",
     "output_type": "stream",
     "text": [
      "Epoch 1/5: 1056batch [07:08,  2.46batch/s, loss=1.47]                        \n"
     ]
    },
    {
     "name": "stdout",
     "output_type": "stream",
     "text": [
      "Model saved to C:\\Users\\Amitanshu Ghosh\\Desktop\\test_model_post_train\\Adam\\model_Adam_epoch_1.pth\n"
     ]
    },
    {
     "name": "stderr",
     "output_type": "stream",
     "text": [
      "Epoch 2/5: 1056batch [07:10,  2.45batch/s, loss=1.1]                         \n"
     ]
    },
    {
     "name": "stdout",
     "output_type": "stream",
     "text": [
      "Model saved to C:\\Users\\Amitanshu Ghosh\\Desktop\\test_model_post_train\\Adam\\model_Adam_epoch_2.pth\n"
     ]
    },
    {
     "name": "stderr",
     "output_type": "stream",
     "text": [
      "Epoch 3/5: 1056batch [07:17,  2.41batch/s, loss=0.511]                       \n"
     ]
    },
    {
     "name": "stdout",
     "output_type": "stream",
     "text": [
      "Model saved to C:\\Users\\Amitanshu Ghosh\\Desktop\\test_model_post_train\\Adam\\model_Adam_epoch_3.pth\n"
     ]
    },
    {
     "name": "stderr",
     "output_type": "stream",
     "text": [
      "Epoch 4/5: 1056batch [06:48,  2.59batch/s, loss=0.627]                       \n"
     ]
    },
    {
     "name": "stdout",
     "output_type": "stream",
     "text": [
      "Model saved to C:\\Users\\Amitanshu Ghosh\\Desktop\\test_model_post_train\\Adam\\model_Adam_epoch_4.pth\n"
     ]
    },
    {
     "name": "stderr",
     "output_type": "stream",
     "text": [
      "Epoch 5/5: 1056batch [07:28,  2.36batch/s, loss=0.772]                       \n"
     ]
    },
    {
     "name": "stdout",
     "output_type": "stream",
     "text": [
      "Model saved to C:\\Users\\Amitanshu Ghosh\\Desktop\\test_model_post_train\\Adam\\model_Adam_epoch_5.pth\n",
      "\tValidation mse: 0.67394\n",
      "\tValidation loss: 0.70175\n",
      "\n",
      "Learning rate: 0.006617 and hidden size: 23\n"
     ]
    },
    {
     "name": "stderr",
     "output_type": "stream",
     "text": [
      "Epoch 1/5: 1056batch [07:08,  2.47batch/s, loss=0.675]                       \n"
     ]
    },
    {
     "name": "stdout",
     "output_type": "stream",
     "text": [
      "Model saved to C:\\Users\\Amitanshu Ghosh\\Desktop\\test_model_post_train\\Adam\\model_Adam_epoch_1.pth\n"
     ]
    },
    {
     "name": "stderr",
     "output_type": "stream",
     "text": [
      "Epoch 2/5: 1056batch [07:20,  2.40batch/s, loss=1.57]                        \n"
     ]
    },
    {
     "name": "stdout",
     "output_type": "stream",
     "text": [
      "Model saved to C:\\Users\\Amitanshu Ghosh\\Desktop\\test_model_post_train\\Adam\\model_Adam_epoch_2.pth\n"
     ]
    },
    {
     "name": "stderr",
     "output_type": "stream",
     "text": [
      "Epoch 3/5: 1056batch [07:01,  2.50batch/s, loss=0.611]                       \n"
     ]
    },
    {
     "name": "stdout",
     "output_type": "stream",
     "text": [
      "Model saved to C:\\Users\\Amitanshu Ghosh\\Desktop\\test_model_post_train\\Adam\\model_Adam_epoch_3.pth\n"
     ]
    },
    {
     "name": "stderr",
     "output_type": "stream",
     "text": [
      "Epoch 4/5: 1056batch [07:24,  2.38batch/s, loss=0.321]                       \n"
     ]
    },
    {
     "name": "stdout",
     "output_type": "stream",
     "text": [
      "Model saved to C:\\Users\\Amitanshu Ghosh\\Desktop\\test_model_post_train\\Adam\\model_Adam_epoch_4.pth\n"
     ]
    },
    {
     "name": "stderr",
     "output_type": "stream",
     "text": [
      "Epoch 5/5: 1056batch [07:20,  2.40batch/s, loss=0.827]                       \n"
     ]
    },
    {
     "name": "stdout",
     "output_type": "stream",
     "text": [
      "Model saved to C:\\Users\\Amitanshu Ghosh\\Desktop\\test_model_post_train\\Adam\\model_Adam_epoch_5.pth\n",
      "\tValidation mse: 0.67855\n",
      "\tValidation loss: 0.71915\n",
      "\n",
      "Best parameters found with coarse search:\n",
      " - Learning rate: 0.012038\n",
      " - Hidden size: 26\n",
      " - Validation mse: 0.68%\n",
      "Best parameters found with fine search:\n",
      " - Learning rate: 0.010832\n",
      " - Hidden size: 22\n",
      " - Validation mse: 0.68%\n"
     ]
    },
    {
     "data": {
      "image/png": "[encoded data removed]",
      "text/plain": [
       "<Figure size 1000x800 with 2 Axes>"
      ]
     },
     "metadata": {},
     "output_type": "display_data"
    },
    {
     "name": "stdout",
     "output_type": "stream",
     "text": [
      "Training a model with hidden size 22 and learning rate 0.012038\n"
     ]
    },
    {
     "ename": "NameError",
     "evalue": "name 'save_path' is not defined",
     "output_type": "error",
     "traceback": [
      "\u001b[1;31m---------------------------------------------------------------------------\u001b[0m",
      "\u001b[1;31mNameError\u001b[0m                                 Traceback (most recent call last)",
      "Cell \u001b[1;32mIn[19], line 27\u001b[0m\n\u001b[0;32m     25\u001b[0m num_epochs \u001b[38;5;241m=\u001b[39m \u001b[38;5;241m3\u001b[39m\n\u001b[0;32m     26\u001b[0m \u001b[38;5;66;03m# Train the model\u001b[39;00m\n\u001b[1;32m---> 27\u001b[0m loss_evolution, mse_evolution \u001b[38;5;241m=\u001b[39m train_model(model\u001b[38;5;241m=\u001b[39mmodel, optimizer\u001b[38;5;241m=\u001b[39moptimizer, num_epochs\u001b[38;5;241m=\u001b[39mnum_epochs, criterion\u001b[38;5;241m=\u001b[39mcriterion, save_path\u001b[38;5;241m=\u001b[39m\u001b[43msave_path\u001b[49m, optimizer_name\u001b[38;5;241m=\u001b[39m\u001b[38;5;124m\"\u001b[39m\u001b[38;5;124mAdam\u001b[39m\u001b[38;5;124m\"\u001b[39m)\n\u001b[0;32m     28\u001b[0m plt\u001b[38;5;241m.\u001b[39mplot(mse_evolution)\n\u001b[0;32m     29\u001b[0m plt\u001b[38;5;241m.\u001b[39mxlabel(\u001b[38;5;124m\"\u001b[39m\u001b[38;5;124mEpoch\u001b[39m\u001b[38;5;124m\"\u001b[39m)\n",
      "\u001b[1;31mNameError\u001b[0m: name 'save_path' is not defined"
     ]
    }
   ],
   "source": [
    "\n",
    "\n",
    "fine_trials = 3\n",
    "fine_results = []\n",
    "\n",
    "for _ in range(fine_trials):\n",
    "    lr = best_coarse_params['lr'] * 2.0**random.uniform(-1, 1)  # Fine search around the best LR\n",
    "    hidden_size = int(best_coarse_params['hidden_size'] * random.uniform(0.8, 1.2))  # Fine search around the best hidden size\n",
    "\n",
    "    print(f\"Learning rate: {lr:.4} and hidden size: {hidden_size}\")\n",
    "    val_loss, val_mse = train_eval(hidden_size, lr, criterion, num_epochs)\n",
    "    print(f\"\\tValidation mse: {val_mse:.5}\\n\\tValidation loss: {val_loss:.5}\\n\")\n",
    "    fine_results.append({'lr': lr, 'hidden_size': hidden_size, 'loss': val_loss, 'mse': val_mse})\n",
    "\n",
    "# Find the best parameters from fine search\n",
    "best_fine_params = min(fine_results, key=lambda x: x['loss'])\n",
    "\n",
    "print(f\"Best parameters found with coarse search:\\n - Learning rate: {best_coarse_params['lr']:.5}\\n - Hidden size: {best_coarse_params['hidden_size']}\\n - Validation mse: {best_coarse_params['mse']:.2}%\")\n",
    "print(f\"Best parameters found with fine search:\\n - Learning rate: {best_fine_params['lr']:.5}\\n - Hidden size: {best_fine_params['hidden_size']}\\n - Validation mse: {best_fine_params['mse']:.2}%\")\n",
    "plot_search(coarse_results + fine_results)\n",
    "\n",
    "print(f\"Training a model with hidden size {best_fine_params['hidden_size']} and learning rate {best_coarse_params['lr']:.5}\")\n",
    "model = AudioModel(input_size, best_fine_params['hidden_size'])\n",
    "model = model.to(device)\n",
    "optimizer = optim.Adam(params=model.parameters(), lr=best_coarse_params['lr'])  # For SGD momentum=0.9, nesterov=True)\n",
    "\n",
    "num_epochs = 3\n",
    "# Train the model\n",
    "loss_evolution, mse_evolution = train_model(model=model, optimizer=optimizer, num_epochs=num_epochs, criterion=criterion, save_path=save_path, optimizer_name=\"Adam\")\n",
    "plt.plot(mse_evolution)\n",
    "plt.xlabel(\"Epoch\")\n",
    "plt.ylabel(\"mse\")\n",
    "plt.show()\n",
    "\n",
    "# Evaluate the model\n",
    "eval_loss, eval_mse = evaluate_model(model, criterion)\n",
    "print(f\"mse on the test set: {eval_mse*100}%\")"
   ]
  },
  {
   "cell_type": "code",
   "execution_count": null,
   "metadata": {},
   "outputs": [
    {
     "name": "stdout",
     "output_type": "stream",
     "text": [
      "Learning rate: 0.005067 and hidden size: 21\n"
     ]
    },
    {
     "ename": "KeyboardInterrupt",
     "evalue": "",
     "output_type": "error",
     "traceback": [
      "\u001b[1;31m---------------------------------------------------------------------------\u001b[0m",
      "\u001b[1;31mKeyboardInterrupt\u001b[0m                         Traceback (most recent call last)",
      "Cell \u001b[1;32mIn[35], line 9\u001b[0m\n\u001b[0;32m      6\u001b[0m hidden_size \u001b[38;5;241m=\u001b[39m \u001b[38;5;28mint\u001b[39m(best_coarse_params[\u001b[38;5;124m'\u001b[39m\u001b[38;5;124mhidden_size\u001b[39m\u001b[38;5;124m'\u001b[39m] \u001b[38;5;241m*\u001b[39m random\u001b[38;5;241m.\u001b[39muniform(\u001b[38;5;241m0.8\u001b[39m, \u001b[38;5;241m1.2\u001b[39m))  \u001b[38;5;66;03m# Fine search around the best hidden size\u001b[39;00m\n\u001b[0;32m      8\u001b[0m \u001b[38;5;28mprint\u001b[39m(\u001b[38;5;124mf\u001b[39m\u001b[38;5;124m\"\u001b[39m\u001b[38;5;124mLearning rate: \u001b[39m\u001b[38;5;132;01m{\u001b[39;00mlr\u001b[38;5;132;01m:\u001b[39;00m\u001b[38;5;124m.4\u001b[39m\u001b[38;5;132;01m}\u001b[39;00m\u001b[38;5;124m and hidden size: \u001b[39m\u001b[38;5;132;01m{\u001b[39;00mhidden_size\u001b[38;5;132;01m}\u001b[39;00m\u001b[38;5;124m\"\u001b[39m)\n\u001b[1;32m----> 9\u001b[0m val_loss, val_mse \u001b[38;5;241m=\u001b[39m \u001b[43mtrain_eval\u001b[49m\u001b[43m(\u001b[49m\u001b[43mhidden_size\u001b[49m\u001b[43m,\u001b[49m\u001b[43m \u001b[49m\u001b[43mlr\u001b[49m\u001b[43m,\u001b[49m\u001b[43m \u001b[49m\u001b[43mcriterion\u001b[49m\u001b[43m,\u001b[49m\u001b[43m \u001b[49m\u001b[43mnum_epochs\u001b[49m\u001b[43m)\u001b[49m\n\u001b[0;32m     10\u001b[0m \u001b[38;5;28mprint\u001b[39m(\u001b[38;5;124mf\u001b[39m\u001b[38;5;124m\"\u001b[39m\u001b[38;5;130;01m\\t\u001b[39;00m\u001b[38;5;124mValidation mse: \u001b[39m\u001b[38;5;132;01m{\u001b[39;00mval_mse\u001b[38;5;132;01m:\u001b[39;00m\u001b[38;5;124m.5\u001b[39m\u001b[38;5;132;01m}\u001b[39;00m\u001b[38;5;130;01m\\n\u001b[39;00m\u001b[38;5;130;01m\\t\u001b[39;00m\u001b[38;5;124mValidation loss: \u001b[39m\u001b[38;5;132;01m{\u001b[39;00mval_loss\u001b[38;5;132;01m:\u001b[39;00m\u001b[38;5;124m.5\u001b[39m\u001b[38;5;132;01m}\u001b[39;00m\u001b[38;5;130;01m\\n\u001b[39;00m\u001b[38;5;124m\"\u001b[39m)\n\u001b[0;32m     11\u001b[0m fine_results\u001b[38;5;241m.\u001b[39mappend({\u001b[38;5;124m'\u001b[39m\u001b[38;5;124mlr\u001b[39m\u001b[38;5;124m'\u001b[39m: lr, \u001b[38;5;124m'\u001b[39m\u001b[38;5;124mhidden_size\u001b[39m\u001b[38;5;124m'\u001b[39m: hidden_size, \u001b[38;5;124m'\u001b[39m\u001b[38;5;124mloss\u001b[39m\u001b[38;5;124m'\u001b[39m: val_loss, \u001b[38;5;124m'\u001b[39m\u001b[38;5;124mmse\u001b[39m\u001b[38;5;124m'\u001b[39m: val_mse})\n",
      "Cell \u001b[1;32mIn[22], line 15\u001b[0m, in \u001b[0;36mtrain_eval\u001b[1;34m(hidden_size, learning_rate, criterion, num_epochs)\u001b[0m\n\u001b[0;32m     12\u001b[0m     os\u001b[38;5;241m.\u001b[39mmakedirs(temp_save_path)\n\u001b[0;32m     14\u001b[0m \u001b[38;5;66;03m# Train the model\u001b[39;00m\n\u001b[1;32m---> 15\u001b[0m loss_evolution, mse_evolution \u001b[38;5;241m=\u001b[39m \u001b[43mtrain_model\u001b[49m\u001b[43m(\u001b[49m\u001b[43mmodel\u001b[49m\u001b[43m,\u001b[49m\u001b[43m \u001b[49m\u001b[43mnum_epochs\u001b[49m\u001b[38;5;241;43m=\u001b[39;49m\u001b[43mnum_epochs\u001b[49m\u001b[43m,\u001b[49m\u001b[43m \u001b[49m\u001b[43mcriterion\u001b[49m\u001b[38;5;241;43m=\u001b[39;49m\u001b[43mcriterion\u001b[49m\u001b[43m,\u001b[49m\u001b[43m \u001b[49m\u001b[43moptimizer\u001b[49m\u001b[38;5;241;43m=\u001b[39;49m\u001b[43moptimizer\u001b[49m\u001b[43m,\u001b[49m\u001b[43m \u001b[49m\u001b[43msave_path\u001b[49m\u001b[38;5;241;43m=\u001b[39;49m\u001b[43mtemp_save_path\u001b[49m\u001b[43m,\u001b[49m\u001b[43m \u001b[49m\u001b[43moptimizer_name\u001b[49m\u001b[38;5;241;43m=\u001b[39;49m\u001b[38;5;124;43m\"\u001b[39;49m\u001b[38;5;124;43mAdam\u001b[39;49m\u001b[38;5;124;43m\"\u001b[39;49m\u001b[43m)\u001b[49m\n\u001b[0;32m     16\u001b[0m \u001b[38;5;28;01mreturn\u001b[39;00m loss_evolution[\u001b[38;5;241m-\u001b[39m\u001b[38;5;241m1\u001b[39m], mse_evolution[\u001b[38;5;241m-\u001b[39m\u001b[38;5;241m1\u001b[39m]\n",
      "Cell \u001b[1;32mIn[34], line 18\u001b[0m, in \u001b[0;36mtrain_model\u001b[1;34m(model, optimizer, num_epochs, criterion, save_path, optimizer_name)\u001b[0m\n\u001b[0;32m     16\u001b[0m outputs \u001b[38;5;241m=\u001b[39m model(batch_x)\n\u001b[0;32m     17\u001b[0m loss \u001b[38;5;241m=\u001b[39m criterion(outputs, batch_y)\n\u001b[1;32m---> 18\u001b[0m \u001b[43mloss\u001b[49m\u001b[38;5;241;43m.\u001b[39;49m\u001b[43mbackward\u001b[49m\u001b[43m(\u001b[49m\u001b[43m)\u001b[49m\n\u001b[0;32m     19\u001b[0m optimizer\u001b[38;5;241m.\u001b[39mstep()\n\u001b[0;32m     21\u001b[0m epoch_loss \u001b[38;5;241m+\u001b[39m\u001b[38;5;241m=\u001b[39m loss\u001b[38;5;241m.\u001b[39mitem()\n",
      "File \u001b[1;32mc:\\Users\\Amitanshu Ghosh\\AppData\\Local\\Programs\\Python\\Python310\\lib\\site-packages\\torch\\_tensor.py:525\u001b[0m, in \u001b[0;36mTensor.backward\u001b[1;34m(self, gradient, retain_graph, create_graph, inputs)\u001b[0m\n\u001b[0;32m    515\u001b[0m \u001b[38;5;28;01mif\u001b[39;00m has_torch_function_unary(\u001b[38;5;28mself\u001b[39m):\n\u001b[0;32m    516\u001b[0m     \u001b[38;5;28;01mreturn\u001b[39;00m handle_torch_function(\n\u001b[0;32m    517\u001b[0m         Tensor\u001b[38;5;241m.\u001b[39mbackward,\n\u001b[0;32m    518\u001b[0m         (\u001b[38;5;28mself\u001b[39m,),\n\u001b[1;32m   (...)\u001b[0m\n\u001b[0;32m    523\u001b[0m         inputs\u001b[38;5;241m=\u001b[39minputs,\n\u001b[0;32m    524\u001b[0m     )\n\u001b[1;32m--> 525\u001b[0m \u001b[43mtorch\u001b[49m\u001b[38;5;241;43m.\u001b[39;49m\u001b[43mautograd\u001b[49m\u001b[38;5;241;43m.\u001b[39;49m\u001b[43mbackward\u001b[49m\u001b[43m(\u001b[49m\n\u001b[0;32m    526\u001b[0m \u001b[43m    \u001b[49m\u001b[38;5;28;43mself\u001b[39;49m\u001b[43m,\u001b[49m\u001b[43m \u001b[49m\u001b[43mgradient\u001b[49m\u001b[43m,\u001b[49m\u001b[43m \u001b[49m\u001b[43mretain_graph\u001b[49m\u001b[43m,\u001b[49m\u001b[43m \u001b[49m\u001b[43mcreate_graph\u001b[49m\u001b[43m,\u001b[49m\u001b[43m \u001b[49m\u001b[43minputs\u001b[49m\u001b[38;5;241;43m=\u001b[39;49m\u001b[43minputs\u001b[49m\n\u001b[0;32m    527\u001b[0m \u001b[43m\u001b[49m\u001b[43m)\u001b[49m\n",
      "File \u001b[1;32mc:\\Users\\Amitanshu Ghosh\\AppData\\Local\\Programs\\Python\\Python310\\lib\\site-packages\\torch\\autograd\\__init__.py:267\u001b[0m, in \u001b[0;36mbackward\u001b[1;34m(tensors, grad_tensors, retain_graph, create_graph, grad_variables, inputs)\u001b[0m\n\u001b[0;32m    262\u001b[0m     retain_graph \u001b[38;5;241m=\u001b[39m create_graph\n\u001b[0;32m    264\u001b[0m \u001b[38;5;66;03m# The reason we repeat the same comment below is that\u001b[39;00m\n\u001b[0;32m    265\u001b[0m \u001b[38;5;66;03m# some Python versions print out the first line of a multi-line function\u001b[39;00m\n\u001b[0;32m    266\u001b[0m \u001b[38;5;66;03m# calls in the traceback and some print out the last line\u001b[39;00m\n\u001b[1;32m--> 267\u001b[0m \u001b[43m_engine_run_backward\u001b[49m\u001b[43m(\u001b[49m\n\u001b[0;32m    268\u001b[0m \u001b[43m    \u001b[49m\u001b[43mtensors\u001b[49m\u001b[43m,\u001b[49m\n\u001b[0;32m    269\u001b[0m \u001b[43m    \u001b[49m\u001b[43mgrad_tensors_\u001b[49m\u001b[43m,\u001b[49m\n\u001b[0;32m    270\u001b[0m \u001b[43m    \u001b[49m\u001b[43mretain_graph\u001b[49m\u001b[43m,\u001b[49m\n\u001b[0;32m    271\u001b[0m \u001b[43m    \u001b[49m\u001b[43mcreate_graph\u001b[49m\u001b[43m,\u001b[49m\n\u001b[0;32m    272\u001b[0m \u001b[43m    \u001b[49m\u001b[43minputs\u001b[49m\u001b[43m,\u001b[49m\n\u001b[0;32m    273\u001b[0m \u001b[43m    \u001b[49m\u001b[43mallow_unreachable\u001b[49m\u001b[38;5;241;43m=\u001b[39;49m\u001b[38;5;28;43;01mTrue\u001b[39;49;00m\u001b[43m,\u001b[49m\n\u001b[0;32m    274\u001b[0m \u001b[43m    \u001b[49m\u001b[43maccumulate_grad\u001b[49m\u001b[38;5;241;43m=\u001b[39;49m\u001b[38;5;28;43;01mTrue\u001b[39;49;00m\u001b[43m,\u001b[49m\n\u001b[0;32m    275\u001b[0m \u001b[43m\u001b[49m\u001b[43m)\u001b[49m\n",
      "File \u001b[1;32mc:\\Users\\Amitanshu Ghosh\\AppData\\Local\\Programs\\Python\\Python310\\lib\\site-packages\\torch\\autograd\\graph.py:744\u001b[0m, in \u001b[0;36m_engine_run_backward\u001b[1;34m(t_outputs, *args, **kwargs)\u001b[0m\n\u001b[0;32m    742\u001b[0m     unregister_hooks \u001b[38;5;241m=\u001b[39m _register_logging_hooks_on_whole_graph(t_outputs)\n\u001b[0;32m    743\u001b[0m \u001b[38;5;28;01mtry\u001b[39;00m:\n\u001b[1;32m--> 744\u001b[0m     \u001b[38;5;28;01mreturn\u001b[39;00m Variable\u001b[38;5;241m.\u001b[39m_execution_engine\u001b[38;5;241m.\u001b[39mrun_backward(  \u001b[38;5;66;03m# Calls into the C++ engine to run the backward pass\u001b[39;00m\n\u001b[0;32m    745\u001b[0m         t_outputs, \u001b[38;5;241m*\u001b[39margs, \u001b[38;5;241m*\u001b[39m\u001b[38;5;241m*\u001b[39mkwargs\n\u001b[0;32m    746\u001b[0m     )  \u001b[38;5;66;03m# Calls into the C++ engine to run the backward pass\u001b[39;00m\n\u001b[0;32m    747\u001b[0m \u001b[38;5;28;01mfinally\u001b[39;00m:\n\u001b[0;32m    748\u001b[0m     \u001b[38;5;28;01mif\u001b[39;00m attach_logging_hooks:\n",
      "\u001b[1;31mKeyboardInterrupt\u001b[0m: "
     ]
    }
   ],
   "source": [
    "\n",
    "\n"
   ]
  },
  {
   "cell_type": "code",
   "execution_count": 19,
   "metadata": {},
   "outputs": [
    {
     "ename": "NameError",
     "evalue": "name 'best_fine_params' is not defined",
     "output_type": "error",
     "traceback": [
      "\u001b[1;31m---------------------------------------------------------------------------\u001b[0m",
      "\u001b[1;31mNameError\u001b[0m                                 Traceback (most recent call last)",
      "Cell \u001b[1;32mIn[19], line 1\u001b[0m\n\u001b[1;32m----> 1\u001b[0m \u001b[38;5;28mprint\u001b[39m(\u001b[38;5;124mf\u001b[39m\u001b[38;5;124m\"\u001b[39m\u001b[38;5;124mTraining a model with hidden size \u001b[39m\u001b[38;5;132;01m{\u001b[39;00m\u001b[43mbest_fine_params\u001b[49m[\u001b[38;5;124m'\u001b[39m\u001b[38;5;124mhidden_size\u001b[39m\u001b[38;5;124m'\u001b[39m]\u001b[38;5;132;01m}\u001b[39;00m\u001b[38;5;124m and learning rate \u001b[39m\u001b[38;5;132;01m{\u001b[39;00mbest_coarse_params[\u001b[38;5;124m'\u001b[39m\u001b[38;5;124mlr\u001b[39m\u001b[38;5;124m'\u001b[39m]\u001b[38;5;132;01m:\u001b[39;00m\u001b[38;5;124m.5\u001b[39m\u001b[38;5;132;01m}\u001b[39;00m\u001b[38;5;124m\"\u001b[39m)\n\u001b[0;32m      2\u001b[0m model \u001b[38;5;241m=\u001b[39m AudioModel(input_size, best_fine_params[\u001b[38;5;124m'\u001b[39m\u001b[38;5;124mhidden_size\u001b[39m\u001b[38;5;124m'\u001b[39m])\n\u001b[0;32m      3\u001b[0m model \u001b[38;5;241m=\u001b[39m model\u001b[38;5;241m.\u001b[39mto(device)\n",
      "\u001b[1;31mNameError\u001b[0m: name 'best_fine_params' is not defined"
     ]
    }
   ],
   "source": [
    "print(f\"Training a model with hidden size {best_fine_params['hidden_size']} and learning rate {best_coarse_params['lr']:.5}\")\n",
    "model = AudioModel(input_size, best_fine_params['hidden_size'])\n",
    "model = model.to(device)\n",
    "optimizer = optim.Adam(params=model.parameters(), lr=best_coarse_params['lr']) #for SGD momentum=0.9, nesterov=True)\n",
    "#save_path = \"C:\\\\Users\\\\Amitanshu Ghosh\\\\Desktop\\\\test_model_post_train\"\n",
    "num_epochs = 10\n",
    "# Train the model\n",
    "loss_evolution, mse_evolution = train_model(model, optimizer, num_epochs=num_epochs, criterion=criterion, save_path= save_path, optimizer_name=\"Adam\")\n",
    "plt.plot(mse_evolution)\n",
    "plt.xlabel(\"Epoch\")\n",
    "plt.ylabel(\"mse\")\n",
    "plt.show()\n",
    "\n",
    "# Evaluate the model\n",
    "eval_loss, eval_mse = evaluate_model(model, criterion)\n",
    "print(f\"mse on the test set: {eval_mse*100}%\")\n"
   ]
  },
  {
   "cell_type": "code",
   "execution_count": null,
   "metadata": {},
   "outputs": [],
   "source": []
  }
 ],
 "metadata": {
  "kernelspec": {
   "display_name": "Python 3 (ipykernel)",
   "language": "python",
   "name": "python3"
  },
  "language_info": {
   "codemirror_mode": {
    "name": "ipython",
    "version": 3
   },
   "file_extension": ".py",
   "mimetype": "text/x-python",
   "name": "python",
   "nbconvert_exporter": "python",
   "pygments_lexer": "ipython3",
   "version": "3.10.11"
  }
 },
 "nbformat": 4,
 "nbformat_minor": 2
}
